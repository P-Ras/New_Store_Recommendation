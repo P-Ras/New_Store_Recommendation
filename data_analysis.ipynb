{
 "cells": [
  {
   "cell_type": "code",
   "execution_count": 75,
   "id": "e7dd40c3-1562-4d00-b17e-4d2b49b3ad69",
   "metadata": {},
   "outputs": [],
   "source": [
    "import pandas as pd\n",
    "import requests"
   ]
  },
  {
   "cell_type": "code",
   "execution_count": 7,
   "id": "183da67b-b230-44c8-8c28-146afac64f8d",
   "metadata": {},
   "outputs": [
    {
     "name": "stderr",
     "output_type": "stream",
     "text": [
      "/var/folders/mg/sts1jc3x4vg3ykt3408_lxs00000gn/T/ipykernel_2448/2734958114.py:1: DtypeWarning: Columns (19,20) have mixed types. Specify dtype option on import or set low_memory=False.\n",
      "  df = pd.read_csv(\"./data/Legally_Operating_Businesses_20240905.csv\")\n"
     ]
    }
   ],
   "source": [
    "df = pd.read_csv('./data/Legally_Operating_Businesses_20240905.csv')"
   ]
  },
  {
   "cell_type": "code",
   "execution_count": 8,
   "id": "5d02c0df-c50f-4f94-b1cf-cf3cd98ce305",
   "metadata": {},
   "outputs": [
    {
     "data": {
      "text/html": [
       "<div>\n",
       "<style scoped>\n",
       "    .dataframe tbody tr th:only-of-type {\n",
       "        vertical-align: middle;\n",
       "    }\n",
       "\n",
       "    .dataframe tbody tr th {\n",
       "        vertical-align: top;\n",
       "    }\n",
       "\n",
       "    .dataframe thead th {\n",
       "        text-align: right;\n",
       "    }\n",
       "</style>\n",
       "<table border=\"1\" class=\"dataframe\">\n",
       "  <thead>\n",
       "    <tr style=\"text-align: right;\">\n",
       "      <th></th>\n",
       "      <th>DCA License Number</th>\n",
       "      <th>License Type</th>\n",
       "      <th>License Expiration Date</th>\n",
       "      <th>License Status</th>\n",
       "      <th>License Creation Date</th>\n",
       "      <th>Industry</th>\n",
       "      <th>Business Name</th>\n",
       "      <th>Business Name 2</th>\n",
       "      <th>Address Building</th>\n",
       "      <th>Address Street Name</th>\n",
       "      <th>...</th>\n",
       "      <th>Community Board</th>\n",
       "      <th>Council District</th>\n",
       "      <th>BIN</th>\n",
       "      <th>BBL</th>\n",
       "      <th>NTA</th>\n",
       "      <th>Census Tract</th>\n",
       "      <th>Detail</th>\n",
       "      <th>Longitude</th>\n",
       "      <th>Latitude</th>\n",
       "      <th>Location</th>\n",
       "    </tr>\n",
       "  </thead>\n",
       "  <tbody>\n",
       "    <tr>\n",
       "      <th>0</th>\n",
       "      <td>0967332-DCA</td>\n",
       "      <td>Business</td>\n",
       "      <td>02/28/2017</td>\n",
       "      <td>Inactive</td>\n",
       "      <td>02/04/2010</td>\n",
       "      <td>Home Improvement Contractor</td>\n",
       "      <td>BARBARINO, JOHN JR.</td>\n",
       "      <td>JOHN BARBARINO JR_HOME IMPROVEMENT</td>\n",
       "      <td>239</td>\n",
       "      <td>MEDFORD CT</td>\n",
       "      <td>...</td>\n",
       "      <td>NaN</td>\n",
       "      <td>NaN</td>\n",
       "      <td>NaN</td>\n",
       "      <td>NaN</td>\n",
       "      <td>NaN</td>\n",
       "      <td>NaN</td>\n",
       "      <td>NaN</td>\n",
       "      <td>NaN</td>\n",
       "      <td>NaN</td>\n",
       "      <td>NaN</td>\n",
       "    </tr>\n",
       "    <tr>\n",
       "      <th>1</th>\n",
       "      <td>2103411-DCA</td>\n",
       "      <td>Individual</td>\n",
       "      <td>03/31/2024</td>\n",
       "      <td>Active</td>\n",
       "      <td>01/11/2022</td>\n",
       "      <td>Sightseeing Guide</td>\n",
       "      <td>Nieciak, Joseph</td>\n",
       "      <td>NaN</td>\n",
       "      <td>NaN</td>\n",
       "      <td>NaN</td>\n",
       "      <td>...</td>\n",
       "      <td>NaN</td>\n",
       "      <td>NaN</td>\n",
       "      <td>NaN</td>\n",
       "      <td>NaN</td>\n",
       "      <td>NaN</td>\n",
       "      <td>NaN</td>\n",
       "      <td>NaN</td>\n",
       "      <td>NaN</td>\n",
       "      <td>NaN</td>\n",
       "      <td>NaN</td>\n",
       "    </tr>\n",
       "    <tr>\n",
       "      <th>2</th>\n",
       "      <td>2060087-DCA</td>\n",
       "      <td>Individual</td>\n",
       "      <td>03/31/2024</td>\n",
       "      <td>Active</td>\n",
       "      <td>10/31/2017</td>\n",
       "      <td>Sightseeing Guide</td>\n",
       "      <td>Arcaro, Tyler</td>\n",
       "      <td>NaN</td>\n",
       "      <td>NaN</td>\n",
       "      <td>NaN</td>\n",
       "      <td>...</td>\n",
       "      <td>NaN</td>\n",
       "      <td>NaN</td>\n",
       "      <td>NaN</td>\n",
       "      <td>NaN</td>\n",
       "      <td>NaN</td>\n",
       "      <td>NaN</td>\n",
       "      <td>NaN</td>\n",
       "      <td>NaN</td>\n",
       "      <td>NaN</td>\n",
       "      <td>NaN</td>\n",
       "    </tr>\n",
       "    <tr>\n",
       "      <th>3</th>\n",
       "      <td>2078026-DCA</td>\n",
       "      <td>Individual</td>\n",
       "      <td>03/31/2024</td>\n",
       "      <td>Active</td>\n",
       "      <td>09/11/2018</td>\n",
       "      <td>Sightseeing Guide</td>\n",
       "      <td>HESSE, DAPHNEE</td>\n",
       "      <td>NaN</td>\n",
       "      <td>NaN</td>\n",
       "      <td>NaN</td>\n",
       "      <td>...</td>\n",
       "      <td>NaN</td>\n",
       "      <td>NaN</td>\n",
       "      <td>NaN</td>\n",
       "      <td>NaN</td>\n",
       "      <td>NaN</td>\n",
       "      <td>NaN</td>\n",
       "      <td>NaN</td>\n",
       "      <td>NaN</td>\n",
       "      <td>NaN</td>\n",
       "      <td>NaN</td>\n",
       "    </tr>\n",
       "    <tr>\n",
       "      <th>4</th>\n",
       "      <td>2057801-DCA</td>\n",
       "      <td>Individual</td>\n",
       "      <td>02/28/2019</td>\n",
       "      <td>Inactive</td>\n",
       "      <td>09/01/2017</td>\n",
       "      <td>Home Improvement Salesperson</td>\n",
       "      <td>ESCOBAR, KEVIN</td>\n",
       "      <td>NaN</td>\n",
       "      <td>NaN</td>\n",
       "      <td>NaN</td>\n",
       "      <td>...</td>\n",
       "      <td>NaN</td>\n",
       "      <td>NaN</td>\n",
       "      <td>NaN</td>\n",
       "      <td>NaN</td>\n",
       "      <td>NaN</td>\n",
       "      <td>NaN</td>\n",
       "      <td>NaN</td>\n",
       "      <td>NaN</td>\n",
       "      <td>NaN</td>\n",
       "      <td>NaN</td>\n",
       "    </tr>\n",
       "  </tbody>\n",
       "</table>\n",
       "<p>5 rows × 27 columns</p>\n",
       "</div>"
      ],
      "text/plain": [
       "  DCA License Number License Type License Expiration Date License Status  \\\n",
       "0        0967332-DCA     Business              02/28/2017       Inactive   \n",
       "1        2103411-DCA   Individual              03/31/2024         Active   \n",
       "2        2060087-DCA   Individual              03/31/2024         Active   \n",
       "3        2078026-DCA   Individual              03/31/2024         Active   \n",
       "4        2057801-DCA   Individual              02/28/2019       Inactive   \n",
       "\n",
       "  License Creation Date                      Industry        Business Name  \\\n",
       "0            02/04/2010   Home Improvement Contractor  BARBARINO, JOHN JR.   \n",
       "1            01/11/2022             Sightseeing Guide      Nieciak, Joseph   \n",
       "2            10/31/2017             Sightseeing Guide        Arcaro, Tyler   \n",
       "3            09/11/2018             Sightseeing Guide       HESSE, DAPHNEE   \n",
       "4            09/01/2017  Home Improvement Salesperson       ESCOBAR, KEVIN   \n",
       "\n",
       "                      Business Name 2 Address Building Address Street Name  \\\n",
       "0  JOHN BARBARINO JR_HOME IMPROVEMENT              239          MEDFORD CT   \n",
       "1                                 NaN              NaN                 NaN   \n",
       "2                                 NaN              NaN                 NaN   \n",
       "3                                 NaN              NaN                 NaN   \n",
       "4                                 NaN              NaN                 NaN   \n",
       "\n",
       "   ... Community Board Council District  BIN  BBL  NTA Census Tract  Detail  \\\n",
       "0  ...             NaN              NaN  NaN  NaN  NaN          NaN     NaN   \n",
       "1  ...             NaN              NaN  NaN  NaN  NaN          NaN     NaN   \n",
       "2  ...             NaN              NaN  NaN  NaN  NaN          NaN     NaN   \n",
       "3  ...             NaN              NaN  NaN  NaN  NaN          NaN     NaN   \n",
       "4  ...             NaN              NaN  NaN  NaN  NaN          NaN     NaN   \n",
       "\n",
       "   Longitude  Latitude Location  \n",
       "0        NaN       NaN      NaN  \n",
       "1        NaN       NaN      NaN  \n",
       "2        NaN       NaN      NaN  \n",
       "3        NaN       NaN      NaN  \n",
       "4        NaN       NaN      NaN  \n",
       "\n",
       "[5 rows x 27 columns]"
      ]
     },
     "execution_count": 8,
     "metadata": {},
     "output_type": "execute_result"
    }
   ],
   "source": [
    "df.head()"
   ]
  },
  {
   "cell_type": "code",
   "execution_count": 9,
   "id": "dff230e6-88cd-41be-bf53-7abaff42c246",
   "metadata": {},
   "outputs": [
    {
     "name": "stdout",
     "output_type": "stream",
     "text": [
      "(281413, 27) Index(['DCA License Number', 'License Type', 'License Expiration Date',\n",
      "       'License Status', 'License Creation Date', 'Industry', 'Business Name',\n",
      "       'Business Name 2', 'Address Building', 'Address Street Name',\n",
      "       'Secondary Address Street Name', 'Address City', 'Address State',\n",
      "       'Address ZIP', 'Contact Phone Number', 'Address Borough',\n",
      "       'Borough Code', 'Community Board', 'Council District', 'BIN', 'BBL',\n",
      "       'NTA', 'Census Tract', 'Detail', 'Longitude', 'Latitude', 'Location'],\n",
      "      dtype='object')\n"
     ]
    }
   ],
   "source": [
    "print(df.shape, df.columns)"
   ]
  },
  {
   "cell_type": "code",
   "execution_count": 14,
   "id": "ebe89c0e-1c91-4129-bbc7-0aae562fdcb6",
   "metadata": {},
   "outputs": [
    {
     "name": "stdout",
     "output_type": "stream",
     "text": [
      "(46006, 27)\n"
     ]
    }
   ],
   "source": [
    "# only focus on business with active license\n",
    "# assume that all businesses needed the license, \n",
    "# and any business that did not request a new license may no longer operating and not considered as competitors\n",
    "df = df[df['License Status'] == 'Active']\n",
    "print(df.shape)"
   ]
  },
  {
   "cell_type": "code",
   "execution_count": 11,
   "id": "ff547e69-e026-47eb-9b79-f78a16cbd811",
   "metadata": {},
   "outputs": [
    {
     "data": {
      "text/plain": [
       "Industry\n",
       "Home Improvement Contractor       12308\n",
       "Tobacco Retail Dealer              4380\n",
       "Secondhand Dealer - General        4042\n",
       "Sightseeing Guide                  2916\n",
       "Electronics Store                  2231\n",
       "Locksmith                          2201\n",
       "Tow Truck Driver                   2149\n",
       "Electronic Cigarette Dealer        2098\n",
       "Stoop Line Stand                   1817\n",
       "General Vendor                     1778\n",
       "Electronic & Appliance Service     1345\n",
       "Debt Collection Agency             1327\n",
       "Garage                             1215\n",
       "Dealer In Products                  949\n",
       "Pedicab Driver                      752\n",
       "Ticket Seller                       567\n",
       "Secondhand Dealer - Auto            544\n",
       "Process Server Individual           508\n",
       "Newsstand                           320\n",
       "Pedicab Business                    318\n",
       "Tow Truck Company                   294\n",
       "Parking Lot                         277\n",
       "Pawnbroker                          262\n",
       "Employment Agency                   257\n",
       "Horse Drawn Driver                  233\n",
       "Car Wash                            186\n",
       "Garage and Parking Lot              159\n",
       "Process Serving Agency              120\n",
       "Laundries                            83\n",
       "Horse Drawn Cab Owner                70\n",
       "Scrap Metal Processor                65\n",
       "Third Party Food Delivery            40\n",
       "Games of Chance                      37\n",
       "Storage Warehouse                    36\n",
       "Scale Dealer Repairer                31\n",
       "Construction Labor Provider          29\n",
       "Ticket Seller Business               20\n",
       "Bingo Game Operator                  18\n",
       "Sightseeing Bus                       6\n",
       "Locksmith Apprentice                  6\n",
       "Booting Company                       5\n",
       "Commercial Lessor                     4\n",
       "Sidewalk Cafe                         2\n",
       "General Vendor Distributor            1\n",
       "Name: count, dtype: int64"
      ]
     },
     "execution_count": 11,
     "metadata": {},
     "output_type": "execute_result"
    }
   ],
   "source": [
    "df['Industry'].value_counts()"
   ]
  },
  {
   "cell_type": "code",
   "execution_count": 22,
   "id": "1769ae86-6bf6-4c16-965d-b16869f08fa1",
   "metadata": {},
   "outputs": [
    {
     "data": {
      "text/plain": [
       "39446"
      ]
     },
     "execution_count": 22,
     "metadata": {},
     "output_type": "execute_result"
    }
   ],
   "source": [
    "# how many unique business with multiple branch?\n",
    "len((df['Business Name'].value_counts() > 1).index)"
   ]
  },
  {
   "cell_type": "code",
   "execution_count": 23,
   "id": "9403615a-d713-4087-bc86-840435c3ddbe",
   "metadata": {},
   "outputs": [
    {
     "data": {
      "text/plain": [
       "Address Borough\n",
       "Queens           8892\n",
       "Brooklyn         8458\n",
       "Manhattan        6601\n",
       "Outside NYC      4724\n",
       "Bronx            4068\n",
       "Staten Island    2122\n",
       "MANHATTAN          24\n",
       "QUEENS              2\n",
       "Name: count, dtype: int64"
      ]
     },
     "execution_count": 23,
     "metadata": {},
     "output_type": "execute_result"
    }
   ],
   "source": [
    "df['Address Borough'].value_counts()"
   ]
  },
  {
   "cell_type": "code",
   "execution_count": 24,
   "id": "26736afb-06a7-4e83-8bbd-42ca92d6117f",
   "metadata": {},
   "outputs": [
    {
     "data": {
      "text/plain": [
       "Borough Code\n",
       "4.0    8894\n",
       "3.0    8458\n",
       "1.0    6625\n",
       "2.0    4068\n",
       "5.0    2122\n",
       "Name: count, dtype: int64"
      ]
     },
     "execution_count": 24,
     "metadata": {},
     "output_type": "execute_result"
    }
   ],
   "source": [
    "df['Borough Code'].value_counts()"
   ]
  },
  {
   "cell_type": "code",
   "execution_count": 25,
   "id": "2bcf8c5d-6fe8-411f-a344-2075faf1adaa",
   "metadata": {},
   "outputs": [
    {
     "data": {
      "text/plain": [
       "Community Board\n",
       "105.0    1431\n",
       "407.0     978\n",
       "412.0     956\n",
       "401.0     902\n",
       "405.0     874\n",
       "         ... \n",
       "495.0       1\n",
       "481.0       1\n",
       "355.0       1\n",
       "164.0       1\n",
       "228.0       1\n",
       "Name: count, Length: 65, dtype: int64"
      ]
     },
     "execution_count": 25,
     "metadata": {},
     "output_type": "execute_result"
    }
   ],
   "source": [
    "df['Community Board'].value_counts() #Community District number where the business is located."
   ]
  },
  {
   "cell_type": "code",
   "execution_count": 27,
   "id": "44fa4d3f-e0ba-45b2-a33b-c5f220bd58cc",
   "metadata": {},
   "outputs": [
    {
     "data": {
      "text/plain": [
       "Council District\n",
       "4.0     1411\n",
       "3.0     1348\n",
       "1.0     1051\n",
       "28.0     793\n",
       "30.0     777\n",
       "26.0     766\n",
       "38.0     766\n",
       "49.0     758\n",
       "48.0     730\n",
       "50.0     710\n",
       "21.0     709\n",
       "39.0     705\n",
       "47.0     685\n",
       "22.0     683\n",
       "34.0     666\n",
       "43.0     664\n",
       "27.0     647\n",
       "51.0     642\n",
       "13.0     635\n",
       "32.0     621\n",
       "17.0     609\n",
       "29.0     609\n",
       "20.0     608\n",
       "2.0      604\n",
       "19.0     583\n",
       "33.0     572\n",
       "37.0     562\n",
       "15.0     559\n",
       "24.0     511\n",
       "5.0      510\n",
       "45.0     506\n",
       "25.0     498\n",
       "8.0      495\n",
       "44.0     490\n",
       "23.0     484\n",
       "46.0     478\n",
       "12.0     451\n",
       "40.0     442\n",
       "6.0      423\n",
       "11.0     422\n",
       "14.0     409\n",
       "10.0     374\n",
       "18.0     358\n",
       "9.0      339\n",
       "16.0     330\n",
       "41.0     327\n",
       "7.0      326\n",
       "35.0     325\n",
       "42.0     322\n",
       "36.0     313\n",
       "31.0     303\n",
       "Name: count, dtype: int64"
      ]
     },
     "execution_count": 27,
     "metadata": {},
     "output_type": "execute_result"
    }
   ],
   "source": [
    "df['Council District'].value_counts() #City Council District number where the business is located"
   ]
  },
  {
   "cell_type": "code",
   "execution_count": 28,
   "id": "d299f764-3161-489f-8f4e-c15fa32bf998",
   "metadata": {},
   "outputs": [
    {
     "data": {
      "text/plain": [
       "NTA\n",
       "MN17    195\n",
       "MN13    127\n",
       "MN15    125\n",
       "MN19    119\n",
       "MN23    109\n",
       "       ... \n",
       "SI48      2\n",
       "QN98      2\n",
       "MN99      2\n",
       "BK99      1\n",
       "BX99      1\n",
       "Name: count, Length: 193, dtype: int64"
      ]
     },
     "execution_count": 28,
     "metadata": {},
     "output_type": "execute_result"
    }
   ],
   "source": [
    "df['NTA'].value_counts() #Neighborhood Tabulation Area where the business is located.\n",
    "# is a geographic unit used by the New York City Department of City Planning to analyze and report demographic data. It is similar to a census tract but is specifically designed for New York City and its unique urban geography.\n",
    "#NTAs are smaller than census tracts and are defined based on neighborhood boundaries that are often recognized by local residents and communities."
   ]
  },
  {
   "cell_type": "code",
   "execution_count": 29,
   "id": "cf2e0c56-43e9-4d51-bab4-15c2eb15281d",
   "metadata": {},
   "outputs": [
    {
     "data": {
      "text/plain": [
       "Census Tract\n",
       "21.0       43\n",
       "115.0      40\n",
       "7.0        38\n",
       "1502.0     37\n",
       "65.0       36\n",
       "           ..\n",
       "550.0       1\n",
       "71702.0     1\n",
       "270.0       1\n",
       "907.0       1\n",
       "22703.0     1\n",
       "Name: count, Length: 1033, dtype: int64"
      ]
     },
     "execution_count": 29,
     "metadata": {},
     "output_type": "execute_result"
    }
   ],
   "source": [
    "df['Census Tract'].value_counts() #\tCensus Tract where the business is located.\n",
    "#  small geographic area, typically defined by the U.S. Census Bureau, used for collecting and reporting demographic data"
   ]
  },
  {
   "cell_type": "code",
   "execution_count": 31,
   "id": "8fea039c-c6da-4f45-8171-ba46c482d2f6",
   "metadata": {},
   "outputs": [
    {
     "name": "stdout",
     "output_type": "stream",
     "text": [
      "(30141, 27)\n"
     ]
    }
   ],
   "source": [
    "# filter the dataset to only keep 5 boroughts, remove rows with mispelled\n",
    "NYC_BOROUGHS = ['Queens', 'Brooklyn', 'Manhattan', 'Bronx', 'Staten Island']\n",
    "df = df[df['Address Borough'].isin(NYC_BOROUGHS)]\n",
    "print(df.shape)"
   ]
  },
  {
   "cell_type": "code",
   "execution_count": 32,
   "id": "01beae25-912b-4b73-8a13-2b0bce59b318",
   "metadata": {},
   "outputs": [
    {
     "data": {
      "text/plain": [
       "Address Borough  Borough Code\n",
       "Queens           4.0             8892\n",
       "Brooklyn         3.0             8458\n",
       "Manhattan        1.0             6601\n",
       "Bronx            2.0             4068\n",
       "Staten Island    5.0             2122\n",
       "Name: count, dtype: int64"
      ]
     },
     "execution_count": 32,
     "metadata": {},
     "output_type": "execute_result"
    }
   ],
   "source": [
    "df[['Address Borough', 'Borough Code']].value_counts()"
   ]
  },
  {
   "cell_type": "code",
   "execution_count": 35,
   "id": "d835c8b3-47d8-49e7-81b2-27e19c53775b",
   "metadata": {},
   "outputs": [
    {
     "name": "stdout",
     "output_type": "stream",
     "text": [
      "(6189, 27)\n"
     ]
    }
   ],
   "source": [
    "# how many NTA per borough\n",
    "\n",
    "# remove row with missing NTA\n",
    "df = df.dropna(subset=['NTA'])\n",
    "print(df.shape)"
   ]
  },
  {
   "cell_type": "code",
   "execution_count": 36,
   "id": "0e314f1f-b4f3-4a53-ba92-45558eb56bfd",
   "metadata": {},
   "outputs": [
    {
     "data": {
      "text/plain": [
       "Address Borough\n",
       "Bronx            38\n",
       "Brooklyn         52\n",
       "Manhattan        29\n",
       "Queens           59\n",
       "Staten Island    18\n",
       "Name: NTA, dtype: int64"
      ]
     },
     "execution_count": 36,
     "metadata": {},
     "output_type": "execute_result"
    }
   ],
   "source": [
    "df.groupby('Address Borough')['NTA'].nunique()"
   ]
  },
  {
   "cell_type": "code",
   "execution_count": 41,
   "id": "1ef1d255-cc7e-45eb-a445-f869d9aedb86",
   "metadata": {},
   "outputs": [],
   "source": [
    "# convert into the dictionary\n",
    "borough_nta_dict = df.groupby('Address Borough')['NTA'].apply(list).to_dict()"
   ]
  },
  {
   "cell_type": "code",
   "execution_count": null,
   "id": "912f5e31-540f-44f3-9b48-e302962be8a0",
   "metadata": {},
   "outputs": [],
   "source": [
    "# can we get the name of NTA?"
   ]
  },
  {
   "cell_type": "code",
   "execution_count": 43,
   "id": "6577287f-81d8-4747-bdec-592e62962e20",
   "metadata": {},
   "outputs": [],
   "source": [
    "df_nta = pd.read_csv(\"./data/Census_Demographics_at_the_Neighborhood_Tabulation_Area__NTA__level_20240905.csv\")"
   ]
  },
  {
   "cell_type": "code",
   "execution_count": 45,
   "id": "1d584005-c647-439e-a09e-323a414173df",
   "metadata": {},
   "outputs": [
    {
     "data": {
      "text/html": [
       "<div>\n",
       "<style scoped>\n",
       "    .dataframe tbody tr th:only-of-type {\n",
       "        vertical-align: middle;\n",
       "    }\n",
       "\n",
       "    .dataframe tbody tr th {\n",
       "        vertical-align: top;\n",
       "    }\n",
       "\n",
       "    .dataframe thead th {\n",
       "        text-align: right;\n",
       "    }\n",
       "</style>\n",
       "<table border=\"1\" class=\"dataframe\">\n",
       "  <thead>\n",
       "    <tr style=\"text-align: right;\">\n",
       "      <th></th>\n",
       "      <th>Geographic Area - Borough</th>\n",
       "      <th>Geographic Area - 2010 Census FIPS County Code</th>\n",
       "      <th>Geographic Area - Neighborhood Tabulation Area (NTA)* Code</th>\n",
       "      <th>Geographic Area - Neighborhood Tabulation Area (NTA)* Name</th>\n",
       "      <th>Total Population 2000 Number</th>\n",
       "      <th>Total Population 2010 Number</th>\n",
       "      <th>Total Population Change 2000-2010 Number</th>\n",
       "      <th>Total Population Change 2000-2010 Percent</th>\n",
       "    </tr>\n",
       "  </thead>\n",
       "  <tbody>\n",
       "    <tr>\n",
       "      <th>0</th>\n",
       "      <td>Bronx</td>\n",
       "      <td>5.0</td>\n",
       "      <td>BX01</td>\n",
       "      <td>Claremont-Bathgate</td>\n",
       "      <td>28149.0</td>\n",
       "      <td>31078.0</td>\n",
       "      <td>2929.0</td>\n",
       "      <td>10.4</td>\n",
       "    </tr>\n",
       "    <tr>\n",
       "      <th>1</th>\n",
       "      <td>Bronx</td>\n",
       "      <td>5.0</td>\n",
       "      <td>BX03</td>\n",
       "      <td>Eastchester-Edenwald-Baychester</td>\n",
       "      <td>35422.0</td>\n",
       "      <td>34517.0</td>\n",
       "      <td>-905.0</td>\n",
       "      <td>-2.6</td>\n",
       "    </tr>\n",
       "    <tr>\n",
       "      <th>2</th>\n",
       "      <td>Bronx</td>\n",
       "      <td>5.0</td>\n",
       "      <td>BX05</td>\n",
       "      <td>Bedford Park-Fordham North</td>\n",
       "      <td>55329.0</td>\n",
       "      <td>54415.0</td>\n",
       "      <td>-914.0</td>\n",
       "      <td>-1.7</td>\n",
       "    </tr>\n",
       "    <tr>\n",
       "      <th>3</th>\n",
       "      <td>Bronx</td>\n",
       "      <td>5.0</td>\n",
       "      <td>BX06</td>\n",
       "      <td>Belmont</td>\n",
       "      <td>25967.0</td>\n",
       "      <td>27378.0</td>\n",
       "      <td>1411.0</td>\n",
       "      <td>5.4</td>\n",
       "    </tr>\n",
       "    <tr>\n",
       "      <th>4</th>\n",
       "      <td>Bronx</td>\n",
       "      <td>5.0</td>\n",
       "      <td>BX07</td>\n",
       "      <td>Bronxdale</td>\n",
       "      <td>34309.0</td>\n",
       "      <td>35538.0</td>\n",
       "      <td>1229.0</td>\n",
       "      <td>3.6</td>\n",
       "    </tr>\n",
       "  </tbody>\n",
       "</table>\n",
       "</div>"
      ],
      "text/plain": [
       "  Geographic Area - Borough  Geographic Area - 2010 Census FIPS County Code  \\\n",
       "0                     Bronx                                             5.0   \n",
       "1                     Bronx                                             5.0   \n",
       "2                     Bronx                                             5.0   \n",
       "3                     Bronx                                             5.0   \n",
       "4                     Bronx                                             5.0   \n",
       "\n",
       "  Geographic Area - Neighborhood Tabulation Area (NTA)* Code  \\\n",
       "0                                               BX01           \n",
       "1                                               BX03           \n",
       "2                                               BX05           \n",
       "3                                               BX06           \n",
       "4                                               BX07           \n",
       "\n",
       "  Geographic Area - Neighborhood Tabulation Area (NTA)* Name  \\\n",
       "0                                 Claremont-Bathgate           \n",
       "1                    Eastchester-Edenwald-Baychester           \n",
       "2                         Bedford Park-Fordham North           \n",
       "3                                            Belmont           \n",
       "4                                          Bronxdale           \n",
       "\n",
       "   Total Population 2000 Number  Total Population 2010 Number  \\\n",
       "0                       28149.0                       31078.0   \n",
       "1                       35422.0                       34517.0   \n",
       "2                       55329.0                       54415.0   \n",
       "3                       25967.0                       27378.0   \n",
       "4                       34309.0                       35538.0   \n",
       "\n",
       "   Total Population Change 2000-2010 Number  \\\n",
       "0                                    2929.0   \n",
       "1                                    -905.0   \n",
       "2                                    -914.0   \n",
       "3                                    1411.0   \n",
       "4                                    1229.0   \n",
       "\n",
       "   Total Population Change 2000-2010 Percent  \n",
       "0                                       10.4  \n",
       "1                                       -2.6  \n",
       "2                                       -1.7  \n",
       "3                                        5.4  \n",
       "4                                        3.6  "
      ]
     },
     "execution_count": 45,
     "metadata": {},
     "output_type": "execute_result"
    }
   ],
   "source": [
    "df_nta.head(5)"
   ]
  },
  {
   "cell_type": "code",
   "execution_count": 53,
   "id": "e0691f2e-40b2-4319-9f15-919961773ec0",
   "metadata": {},
   "outputs": [],
   "source": [
    "# it would be best to match by the brough name and the code\n",
    "df_nta[['Geographic Area - Borough', 'Geographic Area - 2010 Census FIPS County Code']].value_counts()\n",
    "\n",
    "# let drop the column code as it does not match the value used in df\n",
    "df_nta = df_nta.drop(columns=['Geographic Area - 2010 Census FIPS County Code'])"
   ]
  },
  {
   "cell_type": "code",
   "execution_count": 54,
   "id": "2b556e40-1c4b-4045-b20c-51bc8871d31f",
   "metadata": {},
   "outputs": [
    {
     "data": {
      "text/plain": [
       "Index(['Geographic Area - Borough',\n",
       "       'Geographic Area - Neighborhood Tabulation Area (NTA)* Code',\n",
       "       'Geographic Area - Neighborhood Tabulation Area (NTA)* Name',\n",
       "       'Total Population 2000 Number', 'Total Population 2010 Number',\n",
       "       'Total Population Change 2000-2010 Number',\n",
       "       'Total Population Change 2000-2010 Percent'],\n",
       "      dtype='object')"
      ]
     },
     "execution_count": 54,
     "metadata": {},
     "output_type": "execute_result"
    }
   ],
   "source": [
    "# let's rename the column\n",
    "df_nta.columns"
   ]
  },
  {
   "cell_type": "code",
   "execution_count": 56,
   "id": "9b9b96d0-367f-41f3-84d3-ef2deb407723",
   "metadata": {},
   "outputs": [
    {
     "data": {
      "text/html": [
       "<div>\n",
       "<style scoped>\n",
       "    .dataframe tbody tr th:only-of-type {\n",
       "        vertical-align: middle;\n",
       "    }\n",
       "\n",
       "    .dataframe tbody tr th {\n",
       "        vertical-align: top;\n",
       "    }\n",
       "\n",
       "    .dataframe thead th {\n",
       "        text-align: right;\n",
       "    }\n",
       "</style>\n",
       "<table border=\"1\" class=\"dataframe\">\n",
       "  <thead>\n",
       "    <tr style=\"text-align: right;\">\n",
       "      <th></th>\n",
       "      <th>Address Borough</th>\n",
       "      <th>NTA</th>\n",
       "      <th>NTA_Name</th>\n",
       "      <th>Total_Pop_2000</th>\n",
       "      <th>Total_Pop_2010</th>\n",
       "      <th>Num_Change_Pop_2010_2020</th>\n",
       "      <th>Pct_Change_Pop_2010_2020</th>\n",
       "    </tr>\n",
       "  </thead>\n",
       "  <tbody>\n",
       "    <tr>\n",
       "      <th>0</th>\n",
       "      <td>Bronx</td>\n",
       "      <td>BX01</td>\n",
       "      <td>Claremont-Bathgate</td>\n",
       "      <td>28149.0</td>\n",
       "      <td>31078.0</td>\n",
       "      <td>2929.0</td>\n",
       "      <td>10.4</td>\n",
       "    </tr>\n",
       "    <tr>\n",
       "      <th>1</th>\n",
       "      <td>Bronx</td>\n",
       "      <td>BX03</td>\n",
       "      <td>Eastchester-Edenwald-Baychester</td>\n",
       "      <td>35422.0</td>\n",
       "      <td>34517.0</td>\n",
       "      <td>-905.0</td>\n",
       "      <td>-2.6</td>\n",
       "    </tr>\n",
       "    <tr>\n",
       "      <th>2</th>\n",
       "      <td>Bronx</td>\n",
       "      <td>BX05</td>\n",
       "      <td>Bedford Park-Fordham North</td>\n",
       "      <td>55329.0</td>\n",
       "      <td>54415.0</td>\n",
       "      <td>-914.0</td>\n",
       "      <td>-1.7</td>\n",
       "    </tr>\n",
       "    <tr>\n",
       "      <th>3</th>\n",
       "      <td>Bronx</td>\n",
       "      <td>BX06</td>\n",
       "      <td>Belmont</td>\n",
       "      <td>25967.0</td>\n",
       "      <td>27378.0</td>\n",
       "      <td>1411.0</td>\n",
       "      <td>5.4</td>\n",
       "    </tr>\n",
       "    <tr>\n",
       "      <th>4</th>\n",
       "      <td>Bronx</td>\n",
       "      <td>BX07</td>\n",
       "      <td>Bronxdale</td>\n",
       "      <td>34309.0</td>\n",
       "      <td>35538.0</td>\n",
       "      <td>1229.0</td>\n",
       "      <td>3.6</td>\n",
       "    </tr>\n",
       "  </tbody>\n",
       "</table>\n",
       "</div>"
      ],
      "text/plain": [
       "  Address Borough   NTA                         NTA_Name  Total_Pop_2000  \\\n",
       "0           Bronx  BX01               Claremont-Bathgate         28149.0   \n",
       "1           Bronx  BX03  Eastchester-Edenwald-Baychester         35422.0   \n",
       "2           Bronx  BX05       Bedford Park-Fordham North         55329.0   \n",
       "3           Bronx  BX06                          Belmont         25967.0   \n",
       "4           Bronx  BX07                        Bronxdale         34309.0   \n",
       "\n",
       "   Total_Pop_2010  Num_Change_Pop_2010_2020  Pct_Change_Pop_2010_2020  \n",
       "0         31078.0                    2929.0                      10.4  \n",
       "1         34517.0                    -905.0                      -2.6  \n",
       "2         54415.0                    -914.0                      -1.7  \n",
       "3         27378.0                    1411.0                       5.4  \n",
       "4         35538.0                    1229.0                       3.6  "
      ]
     },
     "execution_count": 56,
     "metadata": {},
     "output_type": "execute_result"
    }
   ],
   "source": [
    "new_col_nta_names = {\n",
    "    'Geographic Area - Borough': 'Address Borough',\n",
    "    'Geographic Area - Neighborhood Tabulation Area (NTA)* Code': 'NTA',\n",
    "    'Geographic Area - Neighborhood Tabulation Area (NTA)* Name': 'NTA_Name',\n",
    "    'Total Population 2000 Number': 'Total_Pop_2000',\n",
    "    'Total Population 2010 Number': 'Total_Pop_2010',\n",
    "    'Total Population Change 2000-2010 Number': 'Num_Change_Pop_2010_2020',\n",
    "    'Total Population Change 2000-2010 Percent': 'Pct_Change_Pop_2010_2020'\n",
    "}\n",
    "df_nta = df_nta.rename(columns=new_col_nta_names)\n",
    "print(df_nta.shape)\n",
    "df_nta.head(5)"
   ]
  },
  {
   "cell_type": "code",
   "execution_count": 83,
   "id": "d20d84f1-5304-4e9b-b298-140374226f0a",
   "metadata": {},
   "outputs": [
    {
     "name": "stdout",
     "output_type": "stream",
     "text": [
      "(195, 7)\n"
     ]
    }
   ],
   "source": [
    "# drop any missing data\n",
    "df_nta = df_nta.dropna(subset=['NTA_Name'])\n",
    "print(df_nta.shape)"
   ]
  },
  {
   "cell_type": "code",
   "execution_count": 84,
   "id": "eb65f9aa-d3fc-44a8-bada-36611b39e6a0",
   "metadata": {},
   "outputs": [
    {
     "data": {
      "text/html": [
       "<div>\n",
       "<style scoped>\n",
       "    .dataframe tbody tr th:only-of-type {\n",
       "        vertical-align: middle;\n",
       "    }\n",
       "\n",
       "    .dataframe tbody tr th {\n",
       "        vertical-align: top;\n",
       "    }\n",
       "\n",
       "    .dataframe thead th {\n",
       "        text-align: right;\n",
       "    }\n",
       "</style>\n",
       "<table border=\"1\" class=\"dataframe\">\n",
       "  <thead>\n",
       "    <tr style=\"text-align: right;\">\n",
       "      <th></th>\n",
       "      <th>NTA_Name</th>\n",
       "      <th>USA_NTA_Address</th>\n",
       "    </tr>\n",
       "  </thead>\n",
       "  <tbody>\n",
       "    <tr>\n",
       "      <th>0</th>\n",
       "      <td>Claremont-Bathgate</td>\n",
       "      <td>Claremont-Bathgate NY USA</td>\n",
       "    </tr>\n",
       "    <tr>\n",
       "      <th>1</th>\n",
       "      <td>Eastchester-Edenwald-Baychester</td>\n",
       "      <td>Eastchester-Edenwald-Baychester NY USA</td>\n",
       "    </tr>\n",
       "    <tr>\n",
       "      <th>2</th>\n",
       "      <td>Bedford Park-Fordham North</td>\n",
       "      <td>Bedford Park-Fordham North NY USA</td>\n",
       "    </tr>\n",
       "    <tr>\n",
       "      <th>3</th>\n",
       "      <td>Belmont</td>\n",
       "      <td>Belmont NY USA</td>\n",
       "    </tr>\n",
       "    <tr>\n",
       "      <th>4</th>\n",
       "      <td>Bronxdale</td>\n",
       "      <td>Bronxdale NY USA</td>\n",
       "    </tr>\n",
       "    <tr>\n",
       "      <th>...</th>\n",
       "      <td>...</td>\n",
       "      <td>...</td>\n",
       "    </tr>\n",
       "    <tr>\n",
       "      <th>190</th>\n",
       "      <td>Stapleton-Rosebank</td>\n",
       "      <td>Stapleton-Rosebank NY USA</td>\n",
       "    </tr>\n",
       "    <tr>\n",
       "      <th>191</th>\n",
       "      <td>New Dorp-Midland Beach</td>\n",
       "      <td>New Dorp-Midland Beach NY USA</td>\n",
       "    </tr>\n",
       "    <tr>\n",
       "      <th>192</th>\n",
       "      <td>Arden Heights</td>\n",
       "      <td>Arden Heights NY USA</td>\n",
       "    </tr>\n",
       "    <tr>\n",
       "      <th>193</th>\n",
       "      <td>Great Kills</td>\n",
       "      <td>Great Kills NY USA</td>\n",
       "    </tr>\n",
       "    <tr>\n",
       "      <th>194</th>\n",
       "      <td>park-cemetery-etc-Staten Island</td>\n",
       "      <td>park-cemetery-etc-Staten Island NY USA</td>\n",
       "    </tr>\n",
       "  </tbody>\n",
       "</table>\n",
       "<p>195 rows × 2 columns</p>\n",
       "</div>"
      ],
      "text/plain": [
       "                            NTA_Name                         USA_NTA_Address\n",
       "0                 Claremont-Bathgate               Claremont-Bathgate NY USA\n",
       "1    Eastchester-Edenwald-Baychester  Eastchester-Edenwald-Baychester NY USA\n",
       "2         Bedford Park-Fordham North       Bedford Park-Fordham North NY USA\n",
       "3                            Belmont                          Belmont NY USA\n",
       "4                          Bronxdale                        Bronxdale NY USA\n",
       "..                               ...                                     ...\n",
       "190               Stapleton-Rosebank               Stapleton-Rosebank NY USA\n",
       "191           New Dorp-Midland Beach           New Dorp-Midland Beach NY USA\n",
       "192                    Arden Heights                    Arden Heights NY USA\n",
       "193                      Great Kills                      Great Kills NY USA\n",
       "194  park-cemetery-etc-Staten Island  park-cemetery-etc-Staten Island NY USA\n",
       "\n",
       "[195 rows x 2 columns]"
      ]
     },
     "execution_count": 84,
     "metadata": {},
     "output_type": "execute_result"
    }
   ],
   "source": [
    "# get the search term of NTA address - ensure that we will search at specific location - NY, USA\n",
    "df_nta['USA_NTA_Address'] = df_nta.NTA_Name.apply(lambda x: x + \" NY USA\")\n",
    "df_nta[['NTA_Name', 'USA_NTA_Address']]"
   ]
  },
  {
   "cell_type": "code",
   "execution_count": 86,
   "id": "c1425e3c-1ae5-402a-89ed-7159acbf0210",
   "metadata": {},
   "outputs": [],
   "source": [
    "# let's get the coordinations of the NTA\n",
    "\n",
    "\n",
    "api_f = open('./api/google-api.txt', 'r')\n",
    "GOOGLE_MAP_API = api_f.read()\n",
    "\n",
    "def get_coordinates(row):\n",
    "    url = f\"https://maps.googleapis.com/maps/api/geocode/json?address={row}&key={GOOGLE_MAP_API}\"\n",
    "    response = requests.get(url)\n",
    "\n",
    "    data = response.json()\n",
    "    if data['status'] == \"OK\":\n",
    "        latitude = data['results'][0]['geometry']['location']['lat']\n",
    "        longitude = data['results'][0]['geometry']['location']['lng']\n",
    "        print(f\"Coordinates for {address}: ({latitude}, {longitude})\")\n",
    "        return [latitude, longitude]\n",
    "    else:\n",
    "        print(\"Geocoding failed:\", data['status'])\n",
    "        return []"
   ]
  },
  {
   "cell_type": "code",
   "execution_count": 87,
   "id": "071a91df-581a-43f0-9857-1b5bfc60d4f2",
   "metadata": {},
   "outputs": [
    {
     "name": "stdout",
     "output_type": "stream",
     "text": [
      "Coordinates for Belmont NY USA: (43.2994285, -74.21793260000001)\n",
      "Coordinates for Belmont NY USA: (40.8863969, -73.84119869999999)\n",
      "Coordinates for Belmont NY USA: (40.8614567, -73.8852771)\n",
      "Coordinates for Belmont NY USA: (42.2231241, -78.0344506)\n",
      "Coordinates for Belmont NY USA: (40.8506558, -73.86652409999999)\n",
      "Coordinates for Belmont NY USA: (40.8430609, -73.8816001)\n",
      "Coordinates for Belmont NY USA: (40.8159508, -73.85640479999999)\n",
      "Coordinates for Belmont NY USA: (40.8464835, -73.7862189)\n",
      "Coordinates for Belmont NY USA: (40.8738889, -73.82944440000001)\n",
      "Coordinates for Belmont NY USA: (40.8255863, -73.9184388)\n",
      "Coordinates for Belmont NY USA: (40.8453781, -73.8909693)\n",
      "Coordinates for Belmont NY USA: (40.8964814, -73.9023362)\n",
      "Coordinates for Belmont NY USA: (40.836916, -73.9271294)\n",
      "Coordinates for Belmont NY USA: (40.8094385, -73.8803315)\n",
      "Coordinates for Belmont NY USA: (40.8837203, -73.89313899999999)\n",
      "Coordinates for Belmont NY USA: (40.8833912, -73.9051185)\n",
      "Coordinates for Belmont NY USA: (40.8711235, -73.8976328)\n",
      "Coordinates for Belmont NY USA: (40.8653068, -73.8455311)\n",
      "Coordinates for Belmont NY USA: (40.8248438, -73.8915875)\n",
      "Coordinates for Belmont NY USA: (40.8151552, -73.9158439)\n",
      "Coordinates for Belmont NY USA: (40.824545, -73.9104143)\n",
      "Coordinates for Belmont NY USA: (40.8505298, -73.91554289999999)\n",
      "Coordinates for Belmont NY USA: (40.8415796, -73.8706949)\n",
      "Coordinates for Belmont NY USA: (40.8022025, -73.9166051)\n",
      "Coordinates for Belmont NY USA: (40.7073102, -74.0013413)\n",
      "Coordinates for Belmont NY USA: (41.4513121, -74.5346103)\n",
      "Coordinates for Belmont NY USA: (44.7514452, -74.9943641)\n",
      "Coordinates for Belmont NY USA: (40.8803912, -73.8668996)\n",
      "Coordinates for Belmont NY USA: (40.8382522, -73.8566087)\n",
      "Coordinates for Belmont NY USA: (40.8553279, -73.8639594)\n",
      "Coordinates for Belmont NY USA: (40.8150441, -73.8178959)\n",
      "Coordinates for Belmont NY USA: (40.8247728, -73.8695889)\n",
      "Coordinates for Belmont NY USA: (40.8340169, -73.8534026)\n",
      "Coordinates for Belmont NY USA: (40.8955423, -73.86247650000001)\n",
      "Coordinates for Belmont NY USA: (40.658459, -73.400078)\n",
      "Coordinates for Belmont NY USA: (40.8365344, -73.8933509)\n",
      "Coordinates for Belmont NY USA: (40.79312770000001, -73.88601)\n",
      "Coordinates for Belmont NY USA: (40.8223585, -73.8072555)\n",
      "Coordinates for Belmont NY USA: (40.686536, -73.9962255)\n",
      "Coordinates for Belmont NY USA: (40.5870033, -73.9227554)\n",
      "Coordinates for Belmont NY USA: (40.5780706, -73.9596565)\n",
      "Coordinates for Belmont NY USA: (40.5768098, -74.0079781)\n",
      "Coordinates for Belmont NY USA: (40.6270298, -74.10931409999999)\n",
      "Coordinates for Belmont NY USA: (40.6004787, -73.9565551)\n",
      "Coordinates for Belmont NY USA: (40.5968007, -73.9749909)\n",
      "Coordinates for Belmont NY USA: (40.6038852, -74.0062078)\n",
      "Coordinates for Belmont NY USA: (40.6139307, -73.9921833)\n",
      "Coordinates for Belmont NY USA: (40.6139307, -73.9921833)\n",
      "Coordinates for Belmont NY USA: (40.6167679, -74.0183)\n",
      "Coordinates for Belmont NY USA: (40.6263732, -74.0298767)\n",
      "Coordinates for Belmont NY USA: (40.6526345, -74.0091872)\n",
      "Coordinates for Belmont NY USA: (41.9950919, -73.87541139999999)\n",
      "Coordinates for Belmont NY USA: (40.6526345, -74.0091872)\n",
      "Coordinates for Belmont NY USA: (40.6824166, -73.9319933)\n",
      "Coordinates for Belmont NY USA: (40.6710672, -73.98142279999999)\n",
      "Coordinates for Belmont NY USA: (40.7025517, -73.9840165)\n",
      "Coordinates for Belmont NY USA: (40.6539346, -73.9756567)\n",
      "Coordinates for Belmont NY USA: (40.6325649, -73.972128)\n",
      "Coordinates for Belmont NY USA: (40.6414876, -73.9593998)\n",
      "Coordinates for Belmont NY USA: (40.6204388, -73.95997779999999)\n",
      "Coordinates for Belmont NY USA: (42.8989582, -75.5121217)\n",
      "Coordinates for Belmont NY USA: (40.6096768, -73.9114293)\n",
      "Coordinates for Belmont NY USA: (40.6128772, -73.9683934)\n",
      "Coordinates for Belmont NY USA: (40.640248, -73.9060662)\n",
      "Coordinates for Belmont NY USA: (40.6232714, -73.9321664)\n",
      "Coordinates for Belmont NY USA: (40.6592355, -73.9533895)\n",
      "Coordinates for Belmont NY USA: (40.6730118, -73.94189659999999)\n",
      "Coordinates for Belmont NY USA: (40.6694022, -73.9422324)\n",
      "Coordinates for Belmont NY USA: (40.6774196, -73.9668408)\n",
      "Coordinates for Belmont NY USA: (40.6920638, -73.97418739999999)\n",
      "Coordinates for Belmont NY USA: (40.6896834, -73.9661144)\n",
      "Coordinates for Belmont NY USA: (40.7081156, -73.9570696)\n",
      "Coordinates for Belmont NY USA: (43.2994285, -74.21793260000001)\n",
      "Coordinates for Belmont NY USA: (41.204262, -73.6437397)\n",
      "Coordinates for Belmont NY USA: (40.7304701, -73.95150319999999)\n",
      "Coordinates for Belmont NY USA: (40.6957755, -73.9170604)\n",
      "Coordinates for Belmont NY USA: (40.6957755, -73.9170604)\n",
      "Coordinates for Belmont NY USA: (40.6782737, -73.9108212)\n",
      "Coordinates for Belmont NY USA: (40.665214, -73.9125304)\n",
      "Coordinates for Belmont NY USA: (40.7127753, -74.0059728)\n",
      "Coordinates for Belmont NY USA: (40.6762144, -73.88708059999999)\n",
      "Coordinates for Belmont NY USA: (40.6584679, -73.8904449)\n",
      "Coordinates for Belmont NY USA: (40.6350319, -73.9921028)\n",
      "Coordinates for Belmont NY USA: (40.7141953, -73.9316461)\n",
      "Coordinates for Belmont NY USA: (40.6374378, -73.9465738)\n",
      "Coordinates for Belmont NY USA: (40.6484272, -73.88236119999999)\n",
      "Coordinates for Belmont NY USA: (40.7127753, -74.0059728)\n",
      "Coordinates for Belmont NY USA: (40.65281299999999, -73.9199721)\n",
      "Coordinates for Belmont NY USA: (40.6880111, -73.8797751)\n",
      "Coordinates for Belmont NY USA: (40.8747631, -73.9121515)\n",
      "Coordinates for Belmont NY USA: (40.8089419, -73.9482305)\n",
      "Coordinates for Belmont NY USA: (40.8252793, -73.94761390000001)\n",
      "Coordinates for Belmont NY USA: (40.8169443, -73.9558333)\n",
      "Coordinates for Belmont NY USA: (40.8105443, -73.9620581)\n",
      "Coordinates for Belmont NY USA: (40.8089419, -73.9482305)\n",
      "Coordinates for Belmont NY USA: (40.7870106, -73.9753676)\n",
      "Coordinates for Belmont NY USA: (40.7358633, -73.9910835)\n",
      "Coordinates for Belmont NY USA: (40.7741769, -73.98491179999999)\n",
      "Coordinates for Belmont NY USA: (43.0484029, -75.3785034)\n",
      "Coordinates for Belmont NY USA: (40.7521795, -73.9875438)\n",
      "Coordinates for Belmont NY USA: (40.7571432, -73.9718815)\n",
      "Coordinates for Belmont NY USA: (40.7434057, -73.9795827)\n",
      "Coordinates for Belmont NY USA: (40.7367783, -73.9844722)\n",
      "Coordinates for Belmont NY USA: (40.7264773, -73.98153370000001)\n",
      "Coordinates for Belmont NY USA: (40.73468, -74.0047554)\n",
      "Coordinates for Belmont NY USA: (40.7191413, -73.9973273)\n",
      "Coordinates for Belmont NY USA: (40.7115786, -74.0158441)\n",
      "Coordinates for Belmont NY USA: (40.7157509, -73.9970307)\n",
      "Coordinates for Belmont NY USA: (40.715033, -73.9842724)\n",
      "Coordinates for Belmont NY USA: (40.7662315, -73.9602312)\n",
      "Coordinates for Belmont NY USA: (43.1128475, -75.2709991)\n",
      "Coordinates for Belmont NY USA: (40.7957399, -73.93892129999999)\n",
      "Coordinates for Belmont NY USA: (40.7957399, -73.93892129999999)\n",
      "Coordinates for Belmont NY USA: (40.852476, -73.9342996)\n",
      "Coordinates for Belmont NY USA: (40.8417082, -73.9393554)\n",
      "Coordinates for Belmont NY USA: (40.7844653, -73.9550857)\n",
      "Coordinates for Belmont NY USA: (40.7316903, -73.9778494)\n",
      "Coordinates for Belmont NY USA: (40.759948, -73.991006)\n",
      "Coordinates for Belmont NY USA: (40.6804703, -73.7920918)\n",
      "Coordinates for Belmont NY USA: (40.6715916, -73.779798)\n",
      "Coordinates for Belmont NY USA: (40.6715916, -73.779798)\n",
      "Coordinates for Belmont NY USA: (40.6575584, -73.7330753)\n",
      "Coordinates for Belmont NY USA: (40.7179512, -73.783822)\n",
      "Coordinates for Belmont NY USA: (40.7112203, -73.762495)\n",
      "Coordinates for Belmont NY USA: (40.6895283, -73.76436880000001)\n",
      "Coordinates for Belmont NY USA: (40.5754846, -73.8507279)\n",
      "Coordinates for Belmont NY USA: (40.5942276, -73.7742616)\n",
      "Coordinates for Belmont NY USA: (40.5998931, -73.74484369999999)\n",
      "Coordinates for Belmont NY USA: (40.718106, -73.8448469)\n",
      "Coordinates for Belmont NY USA: (40.72557219999999, -73.8624893)\n",
      "Coordinates for Belmont NY USA: (40.7016662, -73.8842219)\n",
      "Coordinates for Belmont NY USA: (40.7043986, -73.9018292)\n",
      "Coordinates for Belmont NY USA: (40.717372, -73.87425)\n",
      "Coordinates for Belmont NY USA: (40.7647238, -73.8306716)\n",
      "Coordinates for Belmont NY USA: (40.786395, -73.8389657)\n",
      "Coordinates for Belmont NY USA: (40.7449859, -73.8642613)\n",
      "Coordinates for Belmont NY USA: (40.7543725, -73.8669188)\n",
      "Coordinates for Belmont NY USA: (40.7660427, -73.8758704)\n",
      "Coordinates for Belmont NY USA: (40.7556818, -73.8830701)\n",
      "Coordinates for Belmont NY USA: (40.73940350000001, -73.8779431)\n",
      "Coordinates for Belmont NY USA: (40.7294018, -73.9065883)\n",
      "Coordinates for Belmont NY USA: (40.7294018, -73.9065883)\n",
      "Coordinates for Belmont NY USA: (40.692158, -73.7330753)\n",
      "Coordinates for Belmont NY USA: (40.7282239, -73.7948516)\n",
      "Coordinates for Belmont NY USA: (40.7135548, -73.796488)\n",
      "Coordinates for Belmont NY USA: (40.7246203, -73.8207637)\n",
      "Coordinates for Belmont NY USA: (40.732341, -73.81077239999999)\n",
      "Coordinates for Belmont NY USA: (40.7335179, -73.7801447)\n",
      "Coordinates for Belmont NY USA: (40.7408584, -73.758241)\n",
      "Coordinates for Belmont NY USA: (40.72437070000001, -73.71540139999999)\n",
      "Coordinates for Belmont NY USA: (40.7486472, -73.7125258)\n",
      "Coordinates for Belmont NY USA: (40.7547659, -73.7299431)\n",
      "Coordinates for Belmont NY USA: (40.7525044, -73.764518)\n",
      "Coordinates for Belmont NY USA: (40.7814336, -73.7782051)\n",
      "Coordinates for Belmont NY USA: (40.7577672, -73.78339609999999)\n",
      "Coordinates for Belmont NY USA: (40.7920449, -73.8095574)\n",
      "Coordinates for Belmont NY USA: (40.73940350000001, -73.8779431)\n",
      "Coordinates for Belmont NY USA: (40.7478792, -73.9756567)\n",
      "Coordinates for Belmont NY USA: (40.7540534, -73.8086418)\n",
      "Coordinates for Belmont NY USA: (40.6901366, -73.8566087)\n",
      "Coordinates for Belmont NY USA: (40.6999853, -73.8310309)\n",
      "Coordinates for Belmont NY USA: (40.6764003, -73.8124984)\n",
      "Coordinates for Belmont NY USA: (40.6806669, -73.844659)\n",
      "Coordinates for Belmont NY USA: (40.6646149, -73.8498968)\n",
      "Coordinates for Belmont NY USA: (40.705695, -73.8272029)\n",
      "Coordinates for Belmont NY USA: (40.7037439, -73.7991953)\n",
      "Coordinates for Belmont NY USA: (40.7445911, -73.8258135)\n",
      "Coordinates for Belmont NY USA: (40.7532704, -73.9068858)\n",
      "Coordinates for Belmont NY USA: (40.67764, -73.7447853)\n",
      "Coordinates for Belmont NY USA: (40.7556711, -73.9456723)\n",
      "Coordinates for Belmont NY USA: (40.7643574, -73.92346189999999)\n",
      "Coordinates for Belmont NY USA: (40.7643574, -73.92346189999999)\n",
      "Coordinates for Belmont NY USA: (40.7745459, -73.9037477)\n",
      "Coordinates for Belmont NY USA: (40.6848044, -73.78222509999999)\n",
      "Coordinates for Belmont NY USA: (41.4984032, -74.1008627)\n",
      "Coordinates for Belmont NY USA: (40.7104687, -73.8847407)\n",
      "Coordinates for Belmont NY USA: (40.5232804, -74.20032309999999)\n",
      "Coordinates for Belmont NY USA: (40.5847957, -74.16034840000002)\n",
      "Coordinates for Belmont NY USA: (40.616296, -74.1386767)\n",
      "Coordinates for Belmont NY USA: (40.6189726, -74.0784785)\n",
      "Coordinates for Belmont NY USA: (40.5201055, -74.22931129999999)\n",
      "Coordinates for Belmont NY USA: (40.6409366, -74.1801442)\n",
      "Coordinates for Belmont NY USA: (40.6012117, -74.0579185)\n",
      "Coordinates for Belmont NY USA: (40.6270298, -74.10931409999999)\n",
      "Coordinates for Belmont NY USA: (40.6074525, -74.0963115)\n",
      "Coordinates for Belmont NY USA: (40.5526053, -74.1143087)\n",
      "Coordinates for Belmont NY USA: (40.6339267, -74.13606519999999)\n",
      "Coordinates for Belmont NY USA: (40.5487944, -74.2107848)\n",
      "Coordinates for Belmont NY USA: (45.0655212, -93.2018908)\n",
      "Coordinates for Belmont NY USA: (40.5903824, -74.06680759999999)\n",
      "Coordinates for Belmont NY USA: (40.6288778, -74.0784785)\n",
      "Coordinates for Belmont NY USA: (40.5739937, -74.1159755)\n",
      "Coordinates for Belmont NY USA: (40.556413, -74.1735044)\n",
      "Coordinates for Belmont NY USA: (40.5543273, -74.156292)\n",
      "Coordinates for Belmont NY USA: (40.5649434, -74.1450002)\n"
     ]
    }
   ],
   "source": [
    "df_nta['lat_long'] = df_nta.USA_NTA_Address.apply(lambda x: get_coordinates(x))"
   ]
  },
  {
   "cell_type": "code",
   "execution_count": 88,
   "id": "e4fe405b-952a-4b69-a595-372998cbd1e2",
   "metadata": {},
   "outputs": [
    {
     "data": {
      "text/html": [
       "<div>\n",
       "<style scoped>\n",
       "    .dataframe tbody tr th:only-of-type {\n",
       "        vertical-align: middle;\n",
       "    }\n",
       "\n",
       "    .dataframe tbody tr th {\n",
       "        vertical-align: top;\n",
       "    }\n",
       "\n",
       "    .dataframe thead th {\n",
       "        text-align: right;\n",
       "    }\n",
       "</style>\n",
       "<table border=\"1\" class=\"dataframe\">\n",
       "  <thead>\n",
       "    <tr style=\"text-align: right;\">\n",
       "      <th></th>\n",
       "      <th>Address Borough</th>\n",
       "      <th>NTA</th>\n",
       "      <th>NTA_Name</th>\n",
       "      <th>Total_Pop_2000</th>\n",
       "      <th>Total_Pop_2010</th>\n",
       "      <th>Num_Change_Pop_2010_2020</th>\n",
       "      <th>Pct_Change_Pop_2010_2020</th>\n",
       "      <th>USA_NTA_Address</th>\n",
       "      <th>lat_long</th>\n",
       "    </tr>\n",
       "  </thead>\n",
       "  <tbody>\n",
       "  </tbody>\n",
       "</table>\n",
       "</div>"
      ],
      "text/plain": [
       "Empty DataFrame\n",
       "Columns: [Address Borough, NTA, NTA_Name, Total_Pop_2000, Total_Pop_2010, Num_Change_Pop_2010_2020, Pct_Change_Pop_2010_2020, USA_NTA_Address, lat_long]\n",
       "Index: []"
      ]
     },
     "execution_count": 88,
     "metadata": {},
     "output_type": "execute_result"
    }
   ],
   "source": [
    "# any missing data\n",
    "df_nta[df_nta.lat_long.isnull()].sum()"
   ]
  },
  {
   "cell_type": "code",
   "execution_count": 89,
   "id": "eadde45e-6058-49ba-abce-bede2c7821af",
   "metadata": {},
   "outputs": [],
   "source": [
    "df_nta.to_csv('./data/NTA_lat_long_not_permitted.csv')"
   ]
  },
  {
   "cell_type": "code",
   "execution_count": null,
   "id": "1722d108-0829-4900-b9b6-514e9d43995d",
   "metadata": {},
   "outputs": [],
   "source": [
    "# get lat and long in separate column\n"
   ]
  },
  {
   "cell_type": "code",
   "execution_count": 79,
   "id": "d437e63b-fda9-46d8-8d88-ee5a0cc151c9",
   "metadata": {},
   "outputs": [
    {
     "name": "stdout",
     "output_type": "stream",
     "text": [
      "Coordinates for Belmont NY USA: (42.2231241, -78.0344506)\n"
     ]
    }
   ],
   "source": [
    "data = response.json()\n",
    "if data['status'] == \"OK\":\n",
    "    latitude = data['results'][0]['geometry']['location']['lat']\n",
    "    longitude = data['results'][0]['geometry']['location']['lng']\n",
    "    print(f\"Coordinates for {address}: ({latitude}, {longitude})\")\n",
    "else:\n",
    "    print(\"Geocoding failed:\", data['status']) "
   ]
  },
  {
   "cell_type": "code",
   "execution_count": 71,
   "id": "e96587f5-206f-41cf-b848-c74fc668fd2c",
   "metadata": {},
   "outputs": [
    {
     "data": {
      "text/plain": [
       "<[REQUEST_DENIED] Google - Geocode [empty]>"
      ]
     },
     "execution_count": 71,
     "metadata": {},
     "output_type": "execute_result"
    }
   ],
   "source": [
    "g"
   ]
  },
  {
   "cell_type": "code",
   "execution_count": 73,
   "id": "7351b3ed-a47a-4cc7-b07f-6273f9e8456e",
   "metadata": {},
   "outputs": [
    {
     "ename": "ConfigurationError",
     "evalue": "Using Nominatim with default or sample `user_agent` \"my-application\" is strongly discouraged, as it violates Nominatim's ToS https://operations.osmfoundation.org/policies/nominatim/ and may possibly cause 403 and 429 HTTP errors. Please specify a custom `user_agent` with `Nominatim(user_agent=\"my-application\")` or by overriding the default `user_agent`: `geopy.geocoders.options.default_user_agent = \"my-application\"`.",
     "output_type": "error",
     "traceback": [
      "\u001b[0;31m---------------------------------------------------------------------------\u001b[0m",
      "\u001b[0;31mConfigurationError\u001b[0m                        Traceback (most recent call last)",
      "Cell \u001b[0;32mIn[73], line 2\u001b[0m\n\u001b[1;32m      1\u001b[0m \u001b[38;5;28;01mfrom\u001b[39;00m \u001b[38;5;21;01mgeopy\u001b[39;00m\u001b[38;5;21;01m.\u001b[39;00m\u001b[38;5;21;01mgeocoders\u001b[39;00m \u001b[38;5;28;01mimport\u001b[39;00m Nominatim\n\u001b[0;32m----> 2\u001b[0m geolocator \u001b[38;5;241m=\u001b[39m \u001b[43mNominatim\u001b[49m\u001b[43m(\u001b[49m\u001b[43muser_agent\u001b[49m\u001b[38;5;241;43m=\u001b[39;49m\u001b[38;5;124;43m\"\u001b[39;49m\u001b[38;5;124;43mmy-application\u001b[39;49m\u001b[38;5;124;43m\"\u001b[39;49m\u001b[43m)\u001b[49m\n\u001b[1;32m      3\u001b[0m location \u001b[38;5;241m=\u001b[39m geolocator\u001b[38;5;241m.\u001b[39mgeocode(\u001b[38;5;124m\"\u001b[39m\u001b[38;5;124m175 5th Avenue NYC\u001b[39m\u001b[38;5;124m\"\u001b[39m)\n\u001b[1;32m      4\u001b[0m \u001b[38;5;28mprint\u001b[39m(location\u001b[38;5;241m.\u001b[39maddress)\n",
      "File \u001b[0;32m~/opt/anaconda3/envs/pantalone/lib/python3.10/site-packages/geopy/geocoders/nominatim.py:105\u001b[0m, in \u001b[0;36mNominatim.__init__\u001b[0;34m(self, timeout, proxies, domain, scheme, user_agent, ssl_context, adapter_factory)\u001b[0m\n\u001b[1;32m    101\u001b[0m \u001b[38;5;28mself\u001b[39m\u001b[38;5;241m.\u001b[39mdomain \u001b[38;5;241m=\u001b[39m domain\u001b[38;5;241m.\u001b[39mstrip(\u001b[38;5;124m'\u001b[39m\u001b[38;5;124m/\u001b[39m\u001b[38;5;124m'\u001b[39m)\n\u001b[1;32m    103\u001b[0m \u001b[38;5;28;01mif\u001b[39;00m (\u001b[38;5;28mself\u001b[39m\u001b[38;5;241m.\u001b[39mdomain \u001b[38;5;241m==\u001b[39m _DEFAULT_NOMINATIM_DOMAIN\n\u001b[1;32m    104\u001b[0m         \u001b[38;5;129;01mand\u001b[39;00m \u001b[38;5;28mself\u001b[39m\u001b[38;5;241m.\u001b[39mheaders[\u001b[38;5;124m'\u001b[39m\u001b[38;5;124mUser-Agent\u001b[39m\u001b[38;5;124m'\u001b[39m] \u001b[38;5;129;01min\u001b[39;00m _REJECTED_USER_AGENTS):\n\u001b[0;32m--> 105\u001b[0m     \u001b[38;5;28;01mraise\u001b[39;00m ConfigurationError(\n\u001b[1;32m    106\u001b[0m         \u001b[38;5;124m'\u001b[39m\u001b[38;5;124mUsing Nominatim with default or sample `user_agent` \u001b[39m\u001b[38;5;124m\"\u001b[39m\u001b[38;5;132;01m%s\u001b[39;00m\u001b[38;5;124m\"\u001b[39m\u001b[38;5;124m is \u001b[39m\u001b[38;5;124m'\u001b[39m\n\u001b[1;32m    107\u001b[0m         \u001b[38;5;124m'\u001b[39m\u001b[38;5;124mstrongly discouraged, as it violates Nominatim\u001b[39m\u001b[38;5;130;01m\\'\u001b[39;00m\u001b[38;5;124ms ToS \u001b[39m\u001b[38;5;124m'\u001b[39m\n\u001b[1;32m    108\u001b[0m         \u001b[38;5;124m'\u001b[39m\u001b[38;5;124mhttps://operations.osmfoundation.org/policies/nominatim/ \u001b[39m\u001b[38;5;124m'\u001b[39m\n\u001b[1;32m    109\u001b[0m         \u001b[38;5;124m'\u001b[39m\u001b[38;5;124mand may possibly cause 403 and 429 HTTP errors. \u001b[39m\u001b[38;5;124m'\u001b[39m\n\u001b[1;32m    110\u001b[0m         \u001b[38;5;124m'\u001b[39m\u001b[38;5;124mPlease specify a custom `user_agent` with \u001b[39m\u001b[38;5;124m'\u001b[39m\n\u001b[1;32m    111\u001b[0m         \u001b[38;5;124m'\u001b[39m\u001b[38;5;124m`Nominatim(user_agent=\u001b[39m\u001b[38;5;124m\"\u001b[39m\u001b[38;5;124mmy-application\u001b[39m\u001b[38;5;124m\"\u001b[39m\u001b[38;5;124m)` or by \u001b[39m\u001b[38;5;124m'\u001b[39m\n\u001b[1;32m    112\u001b[0m         \u001b[38;5;124m'\u001b[39m\u001b[38;5;124moverriding the default `user_agent`: \u001b[39m\u001b[38;5;124m'\u001b[39m\n\u001b[1;32m    113\u001b[0m         \u001b[38;5;124m'\u001b[39m\u001b[38;5;124m`geopy.geocoders.options.default_user_agent = \u001b[39m\u001b[38;5;124m\"\u001b[39m\u001b[38;5;124mmy-application\u001b[39m\u001b[38;5;124m\"\u001b[39m\u001b[38;5;124m`.\u001b[39m\u001b[38;5;124m'\u001b[39m\n\u001b[1;32m    114\u001b[0m         \u001b[38;5;241m%\u001b[39m \u001b[38;5;28mself\u001b[39m\u001b[38;5;241m.\u001b[39mheaders[\u001b[38;5;124m'\u001b[39m\u001b[38;5;124mUser-Agent\u001b[39m\u001b[38;5;124m'\u001b[39m]\n\u001b[1;32m    115\u001b[0m     )\n\u001b[1;32m    117\u001b[0m \u001b[38;5;28mself\u001b[39m\u001b[38;5;241m.\u001b[39mapi \u001b[38;5;241m=\u001b[39m \u001b[38;5;124m\"\u001b[39m\u001b[38;5;132;01m%s\u001b[39;00m\u001b[38;5;124m://\u001b[39m\u001b[38;5;132;01m%s\u001b[39;00m\u001b[38;5;132;01m%s\u001b[39;00m\u001b[38;5;124m\"\u001b[39m \u001b[38;5;241m%\u001b[39m (\u001b[38;5;28mself\u001b[39m\u001b[38;5;241m.\u001b[39mscheme, \u001b[38;5;28mself\u001b[39m\u001b[38;5;241m.\u001b[39mdomain, \u001b[38;5;28mself\u001b[39m\u001b[38;5;241m.\u001b[39mgeocode_path)\n\u001b[1;32m    118\u001b[0m \u001b[38;5;28mself\u001b[39m\u001b[38;5;241m.\u001b[39mreverse_api \u001b[38;5;241m=\u001b[39m \u001b[38;5;124m\"\u001b[39m\u001b[38;5;132;01m%s\u001b[39;00m\u001b[38;5;124m://\u001b[39m\u001b[38;5;132;01m%s\u001b[39;00m\u001b[38;5;132;01m%s\u001b[39;00m\u001b[38;5;124m\"\u001b[39m \u001b[38;5;241m%\u001b[39m (\u001b[38;5;28mself\u001b[39m\u001b[38;5;241m.\u001b[39mscheme, \u001b[38;5;28mself\u001b[39m\u001b[38;5;241m.\u001b[39mdomain, \u001b[38;5;28mself\u001b[39m\u001b[38;5;241m.\u001b[39mreverse_path)\n",
      "\u001b[0;31mConfigurationError\u001b[0m: Using Nominatim with default or sample `user_agent` \"my-application\" is strongly discouraged, as it violates Nominatim's ToS https://operations.osmfoundation.org/policies/nominatim/ and may possibly cause 403 and 429 HTTP errors. Please specify a custom `user_agent` with `Nominatim(user_agent=\"my-application\")` or by overriding the default `user_agent`: `geopy.geocoders.options.default_user_agent = \"my-application\"`."
     ]
    }
   ],
   "source": [
    "from geopy.geocoders import Nominatim\n",
    "geolocator = Nominatim(user_agent=\"my-application\")\n",
    "location = geolocator.geocode(\"175 5th Avenue NYC\")\n",
    "print(location.address)\n",
    "# Flatiron Building, 175, 5th Avenue, Flatiron, New York, NYC, New York, ...\n",
    "print((location.latitude, location.longitude))\n",
    "# (40.7410861, -73.9896297241625)\n",
    "print(location.raw)\n",
    "# {'place_id': '9167009604', 'type': 'attraction', ...}"
   ]
  },
  {
   "cell_type": "code",
   "execution_count": null,
   "id": "d4030dd6-3a5a-44f7-be4e-fcb4228a53a0",
   "metadata": {},
   "outputs": [],
   "source": []
  }
 ],
 "metadata": {
  "kernelspec": {
   "display_name": "Python 3 (ipykernel)",
   "language": "python",
   "name": "python3"
  },
  "language_info": {
   "codemirror_mode": {
    "name": "ipython",
    "version": 3
   },
   "file_extension": ".py",
   "mimetype": "text/x-python",
   "name": "python",
   "nbconvert_exporter": "python",
   "pygments_lexer": "ipython3",
   "version": "3.10.14"
  }
 },
 "nbformat": 4,
 "nbformat_minor": 5
}
