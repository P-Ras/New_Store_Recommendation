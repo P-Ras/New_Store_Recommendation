{
 "cells": [
  {
   "cell_type": "code",
   "execution_count": 1,
   "id": "2fafa431-584c-4063-8ed8-cfb45f43c177",
   "metadata": {},
   "outputs": [],
   "source": [
    "import pandas as pd"
   ]
  },
  {
   "cell_type": "code",
   "execution_count": 2,
   "id": "9380f5ee-ad54-47af-affe-ab80c3c2023c",
   "metadata": {},
   "outputs": [],
   "source": [
    "# https://data.cityofnewyork.us/Health/Recognized-Shop-Healthy-Stores/ud4g-9x9z/about_data\n",
    "df = pd.read_csv('./data/Recognized_Shop_Healthy_Stores_20240906.csv')"
   ]
  },
  {
   "cell_type": "code",
   "execution_count": 3,
   "id": "90afe53d-125c-4a3d-a3d8-4c854d0a5ce4",
   "metadata": {},
   "outputs": [
    {
     "data": {
      "text/html": [
       "<div>\n",
       "<style scoped>\n",
       "    .dataframe tbody tr th:only-of-type {\n",
       "        vertical-align: middle;\n",
       "    }\n",
       "\n",
       "    .dataframe tbody tr th {\n",
       "        vertical-align: top;\n",
       "    }\n",
       "\n",
       "    .dataframe thead th {\n",
       "        text-align: right;\n",
       "    }\n",
       "</style>\n",
       "<table border=\"1\" class=\"dataframe\">\n",
       "  <thead>\n",
       "    <tr style=\"text-align: right;\">\n",
       "      <th></th>\n",
       "      <th>Store Name</th>\n",
       "      <th>Street Address</th>\n",
       "      <th>Address</th>\n",
       "      <th>Borough</th>\n",
       "      <th>Zip \\nCode</th>\n",
       "      <th>Year Awarded</th>\n",
       "      <th>Program \\nWave</th>\n",
       "      <th>Latitude</th>\n",
       "      <th>Longitude</th>\n",
       "      <th>Community Board</th>\n",
       "      <th>Council District</th>\n",
       "      <th>BIN</th>\n",
       "      <th>BBL</th>\n",
       "      <th>Census Tract (2020)</th>\n",
       "      <th>Neighborhood Tabulation Area (NTA) (2020)</th>\n",
       "    </tr>\n",
       "  </thead>\n",
       "  <tbody>\n",
       "    <tr>\n",
       "      <th>0</th>\n",
       "      <td>Rivas Deli Grocery</td>\n",
       "      <td>651 East 183rd Street</td>\n",
       "      <td>NaN</td>\n",
       "      <td>Bronx</td>\n",
       "      <td>10458</td>\n",
       "      <td>2013</td>\n",
       "      <td>1</td>\n",
       "      <td>40.852568</td>\n",
       "      <td>-73.887484</td>\n",
       "      <td>206.0</td>\n",
       "      <td>15.0</td>\n",
       "      <td>2012464.0</td>\n",
       "      <td>2.030870e+09</td>\n",
       "      <td>391.0</td>\n",
       "      <td>BX0603</td>\n",
       "    </tr>\n",
       "    <tr>\n",
       "      <th>1</th>\n",
       "      <td>C-Town</td>\n",
       "      <td>1761 Southern Boulevard</td>\n",
       "      <td>NaN</td>\n",
       "      <td>Bronx</td>\n",
       "      <td>10460</td>\n",
       "      <td>2013</td>\n",
       "      <td>1</td>\n",
       "      <td>40.837267</td>\n",
       "      <td>-73.888016</td>\n",
       "      <td>203.0</td>\n",
       "      <td>15.0</td>\n",
       "      <td>2009878.0</td>\n",
       "      <td>2.029400e+09</td>\n",
       "      <td>155.0</td>\n",
       "      <td>BX0303</td>\n",
       "    </tr>\n",
       "    <tr>\n",
       "      <th>2</th>\n",
       "      <td>La India Mini Market</td>\n",
       "      <td>1942 Marmion Avenue</td>\n",
       "      <td>NaN</td>\n",
       "      <td>Bronx</td>\n",
       "      <td>10460</td>\n",
       "      <td>2013</td>\n",
       "      <td>1</td>\n",
       "      <td>40.842942</td>\n",
       "      <td>-73.887136</td>\n",
       "      <td>206.0</td>\n",
       "      <td>15.0</td>\n",
       "      <td>2010156.0</td>\n",
       "      <td>2.029600e+09</td>\n",
       "      <td>36502.0</td>\n",
       "      <td>BX0602</td>\n",
       "    </tr>\n",
       "    <tr>\n",
       "      <th>3</th>\n",
       "      <td>Los Hermanos</td>\n",
       "      <td>2019 Vyse Avenue</td>\n",
       "      <td>NaN</td>\n",
       "      <td>Bronx</td>\n",
       "      <td>10460</td>\n",
       "      <td>2013</td>\n",
       "      <td>1</td>\n",
       "      <td>40.842391</td>\n",
       "      <td>-73.881835</td>\n",
       "      <td>206.0</td>\n",
       "      <td>15.0</td>\n",
       "      <td>2013203.0</td>\n",
       "      <td>2.031270e+09</td>\n",
       "      <td>363.0</td>\n",
       "      <td>BX0601</td>\n",
       "    </tr>\n",
       "    <tr>\n",
       "      <th>4</th>\n",
       "      <td>Price Choice Food Market</td>\n",
       "      <td>820 East 180th Street</td>\n",
       "      <td>NaN</td>\n",
       "      <td>Bronx</td>\n",
       "      <td>10460</td>\n",
       "      <td>2013</td>\n",
       "      <td>1</td>\n",
       "      <td>40.846173</td>\n",
       "      <td>-73.884871</td>\n",
       "      <td>206.0</td>\n",
       "      <td>15.0</td>\n",
       "      <td>2012955.0</td>\n",
       "      <td>2.031080e+09</td>\n",
       "      <td>36501.0</td>\n",
       "      <td>BX0602</td>\n",
       "    </tr>\n",
       "  </tbody>\n",
       "</table>\n",
       "</div>"
      ],
      "text/plain": [
       "                 Store Name           Street Address  Address Borough  \\\n",
       "0        Rivas Deli Grocery    651 East 183rd Street      NaN   Bronx   \n",
       "1                    C-Town  1761 Southern Boulevard      NaN   Bronx   \n",
       "2      La India Mini Market      1942 Marmion Avenue      NaN   Bronx   \n",
       "3              Los Hermanos         2019 Vyse Avenue      NaN   Bronx   \n",
       "4  Price Choice Food Market    820 East 180th Street      NaN   Bronx   \n",
       "\n",
       "   Zip \\nCode  Year Awarded  Program \\nWave   Latitude  Longitude  \\\n",
       "0       10458          2013               1  40.852568 -73.887484   \n",
       "1       10460          2013               1  40.837267 -73.888016   \n",
       "2       10460          2013               1  40.842942 -73.887136   \n",
       "3       10460          2013               1  40.842391 -73.881835   \n",
       "4       10460          2013               1  40.846173 -73.884871   \n",
       "\n",
       "   Community Board  Council District        BIN           BBL  \\\n",
       "0            206.0              15.0  2012464.0  2.030870e+09   \n",
       "1            203.0              15.0  2009878.0  2.029400e+09   \n",
       "2            206.0              15.0  2010156.0  2.029600e+09   \n",
       "3            206.0              15.0  2013203.0  2.031270e+09   \n",
       "4            206.0              15.0  2012955.0  2.031080e+09   \n",
       "\n",
       "   Census Tract (2020) Neighborhood Tabulation Area (NTA) (2020)  \n",
       "0                391.0                                    BX0603  \n",
       "1                155.0                                    BX0303  \n",
       "2              36502.0                                    BX0602  \n",
       "3                363.0                                    BX0601  \n",
       "4              36501.0                                    BX0602  "
      ]
     },
     "execution_count": 3,
     "metadata": {},
     "output_type": "execute_result"
    }
   ],
   "source": [
    "df.head()"
   ]
  },
  {
   "cell_type": "code",
   "execution_count": 5,
   "id": "14ac6245-169a-4de9-bbd7-aeee69ac4153",
   "metadata": {},
   "outputs": [
    {
     "data": {
      "text/plain": [
       "Year Awarded\n",
       "2017    119\n",
       "2020    116\n",
       "2023     92\n",
       "2018     73\n",
       "2019     68\n",
       "2015     60\n",
       "2013     44\n",
       "2016     44\n",
       "2022     32\n",
       "2014     27\n",
       "Name: count, dtype: int64"
      ]
     },
     "execution_count": 5,
     "metadata": {},
     "output_type": "execute_result"
    }
   ],
   "source": [
    "df['Year Awarded'].value_counts()"
   ]
  },
  {
   "cell_type": "code",
   "execution_count": 6,
   "id": "f190dae5-dfe4-44e9-9623-68e3fe21cd04",
   "metadata": {},
   "outputs": [
    {
     "data": {
      "text/plain": [
       "Neighborhood Tabulation Area (NTA) (2020)\n",
       "MN1102    47\n",
       "MN1002    43\n",
       "BK0302    40\n",
       "BX0502    38\n",
       "BK1602    34\n",
       "BK0401    33\n",
       "MN1101    33\n",
       "BX0403    29\n",
       "BX0501    28\n",
       "BX0401    28\n",
       "BK0402    26\n",
       "BK0104    20\n",
       "BX0602    19\n",
       "BX0503    18\n",
       "BK0501    16\n",
       "BK1601    15\n",
       "BX0302    14\n",
       "BX0603    14\n",
       "BX0202    14\n",
       "BX0301    14\n",
       "BX0102    12\n",
       "BK1704    12\n",
       "BK0301    12\n",
       "BX0303    11\n",
       "BX0402     9\n",
       "BK0502     8\n",
       "BK0505     7\n",
       "MN0902     6\n",
       "BX0601     6\n",
       "BK0503     6\n",
       "BX0701     4\n",
       "MN1001     4\n",
       "BX0101     4\n",
       "BK0103     4\n",
       "MN0901     2\n",
       "BX0702     2\n",
       "BK0802     1\n",
       "BK1703     1\n",
       "BX0201     1\n",
       "Name: count, dtype: int64"
      ]
     },
     "execution_count": 6,
     "metadata": {},
     "output_type": "execute_result"
    }
   ],
   "source": [
    "df['Neighborhood Tabulation Area (NTA) (2020)'].value_counts()"
   ]
  },
  {
   "cell_type": "code",
   "execution_count": null,
   "id": "6a5b7566-5c20-4ae7-aa7c-47e00f559be3",
   "metadata": {},
   "outputs": [],
   "source": [
    "# NTA not matching\n",
    "# we don't know if the store is operating"
   ]
  },
  {
   "cell_type": "markdown",
   "id": "b4d42cfd-22d2-4873-9eb1-ab785394fc97",
   "metadata": {},
   "source": [
    "https://data.cityofnewyork.us/Business/FRESH-Food-Stores-Zoning-Boundaries/w9uz-8epq\n",
    "https://medium.com/swlh/7-tips-for-working-with-geojson-and-geospatial-data-4e18bd61b32a\n"
   ]
  },
  {
   "cell_type": "code",
   "execution_count": 12,
   "id": "53cbd817-a468-41da-8067-9cd6492ad221",
   "metadata": {},
   "outputs": [],
   "source": [
    "import json\n",
    "from shapely.geometry import shape, GeometryCollection, Point\n",
    "\n",
    "with open('./data/FRESH Food Stores Zoning Boundaries.geojson', 'r') as f:\n",
    "    js = json.load(f)"
   ]
  },
  {
   "cell_type": "code",
   "execution_count": 15,
   "id": "cb1d85ea-ccdf-44ce-a7fc-00840d95d913",
   "metadata": {},
   "outputs": [],
   "source": [
    "# Yorkville\n",
    "point = Point(40.77625377765895, -73.94895369875373)\n",
    "# point = Point(-73.94895369875373, 40.77625377765895)"
   ]
  },
  {
   "cell_type": "code",
   "execution_count": 16,
   "id": "8e0b7813-5c9b-43f6-a670-1abc12e32008",
   "metadata": {},
   "outputs": [],
   "source": [
    "for feature in js['features']:\n",
    "\n",
    "    polygon = shape(feature['geometry'])\n",
    "\n",
    "    if polygon.contains(point):\n",
    "        print ('Found containing polygon:', feature)\n",
    "\n",
    "# FRESH boundaries where zoning and discretionary tax incentives are available for the development, expansion and renovation of full line grocery stores and supermarkets."
   ]
  },
  {
   "cell_type": "code",
   "execution_count": null,
   "id": "852b28a3-cf44-4e68-8a5f-53d44e555791",
   "metadata": {},
   "outputs": [],
   "source": [
    "https://geojson.io/"
   ]
  },
  {
   "cell_type": "code",
   "execution_count": null,
   "id": "73228cbb-e170-4767-8246-1b30984c445a",
   "metadata": {},
   "outputs": [],
   "source": [
    "https://www.ers.usda.gov/data-products/food-access-research-atlas/download-the-data/"
   ]
  },
  {
   "cell_type": "code",
   "execution_count": 18,
   "id": "9824d9a3-d856-48aa-8a93-1964c2521872",
   "metadata": {},
   "outputs": [
    {
     "data": {
      "text/html": [
       "<div>\n",
       "<style scoped>\n",
       "    .dataframe tbody tr th:only-of-type {\n",
       "        vertical-align: middle;\n",
       "    }\n",
       "\n",
       "    .dataframe tbody tr th {\n",
       "        vertical-align: top;\n",
       "    }\n",
       "\n",
       "    .dataframe thead th {\n",
       "        text-align: right;\n",
       "    }\n",
       "</style>\n",
       "<table border=\"1\" class=\"dataframe\">\n",
       "  <thead>\n",
       "    <tr style=\"text-align: right;\">\n",
       "      <th></th>\n",
       "      <th>Notes about the Food Access Research Atlas download data:</th>\n",
       "    </tr>\n",
       "  </thead>\n",
       "  <tbody>\n",
       "    <tr>\n",
       "      <th>0</th>\n",
       "      <td>NaN</td>\n",
       "    </tr>\n",
       "    <tr>\n",
       "      <th>1</th>\n",
       "      <td>This file contains multiple spreadsheets:</td>\n",
       "    </tr>\n",
       "    <tr>\n",
       "      <th>2</th>\n",
       "      <td>NaN</td>\n",
       "    </tr>\n",
       "    <tr>\n",
       "      <th>3</th>\n",
       "      <td>1.  A variable lookup that provides explanator...</td>\n",
       "    </tr>\n",
       "    <tr>\n",
       "      <th>4</th>\n",
       "      <td>2.  A table of all Food Access Research Atlas ...</td>\n",
       "    </tr>\n",
       "  </tbody>\n",
       "</table>\n",
       "</div>"
      ],
      "text/plain": [
       "  Notes about the Food Access Research Atlas download data:\n",
       "0                                                NaN       \n",
       "1          This file contains multiple spreadsheets:       \n",
       "2                                                NaN       \n",
       "3  1.  A variable lookup that provides explanator...       \n",
       "4  2.  A table of all Food Access Research Atlas ...       "
      ]
     },
     "execution_count": 18,
     "metadata": {},
     "output_type": "execute_result"
    }
   ],
   "source": [
    "df = pd.read_excel(\"./data/FoodAccessResearchAtlasData2019.xlsx\")\n",
    "df.head()"
   ]
  },
  {
   "cell_type": "code",
   "execution_count": null,
   "id": "eadc4565-4053-409d-8393-99729b3c6144",
   "metadata": {},
   "outputs": [],
   "source": []
  }
 ],
 "metadata": {
  "kernelspec": {
   "display_name": "Python 3 (ipykernel)",
   "language": "python",
   "name": "python3"
  },
  "language_info": {
   "codemirror_mode": {
    "name": "ipython",
    "version": 3
   },
   "file_extension": ".py",
   "mimetype": "text/x-python",
   "name": "python",
   "nbconvert_exporter": "python",
   "pygments_lexer": "ipython3",
   "version": "3.10.14"
  }
 },
 "nbformat": 4,
 "nbformat_minor": 5
}
