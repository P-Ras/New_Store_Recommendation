{
 "cells": [
  {
   "cell_type": "code",
   "execution_count": 1,
   "id": "cd858990-48e4-40ca-8796-e785bf49cf9c",
   "metadata": {},
   "outputs": [],
   "source": [
    "import pandas as pd"
   ]
  },
  {
   "cell_type": "markdown",
   "id": "e75a5eb6-7a07-472c-b139-3d2d5d13f6f6",
   "metadata": {},
   "source": [
    "# Load the data"
   ]
  },
  {
   "cell_type": "code",
   "execution_count": 14,
   "id": "ba442ab8-aeb5-4997-bae2-80bfd2fed456",
   "metadata": {},
   "outputs": [],
   "source": [
    "df = pd.read_excel('./data/ACS5yrNTA/demo_2016acs5yr_nta.xlsx')"
   ]
  },
  {
   "cell_type": "code",
   "execution_count": 19,
   "id": "e6a678c9-18d2-4e62-9014-729ddcd7dbbc",
   "metadata": {},
   "outputs": [
    {
     "data": {
      "text/plain": [
       "484"
      ]
     },
     "execution_count": 19,
     "metadata": {},
     "output_type": "execute_result"
    }
   ],
   "source": [
    "len(df.columns.to_list())"
   ]
  },
  {
   "cell_type": "code",
   "execution_count": 23,
   "id": "132152da-aa20-4f83-aa20-64815e936a7c",
   "metadata": {},
   "outputs": [
    {
     "data": {
      "text/plain": [
       "659"
      ]
     },
     "execution_count": 23,
     "metadata": {},
     "output_type": "execute_result"
    }
   ],
   "source": [
    "df2 = pd.read_excel('./data/ACS5yrNTA/econ_2016acs5yr_nta.xlsx')\n",
    "len(df2.columns.to_list())"
   ]
  },
  {
   "cell_type": "code",
   "execution_count": 22,
   "id": "8fb450bd-b4a9-4c72-a54c-21732c43eafe",
   "metadata": {},
   "outputs": [
    {
     "data": {
      "text/plain": [
       "524"
      ]
     },
     "execution_count": 22,
     "metadata": {},
     "output_type": "execute_result"
    }
   ],
   "source": [
    "df3 = pd.read_excel('./data/ACS5yrNTA/hous_2016acs5yr_nta.xlsx')\n",
    "len(df3.columns.to_list())"
   ]
  },
  {
   "cell_type": "code",
   "execution_count": 24,
   "id": "5d3ff27e-f04e-4651-a4ca-1c592d250b91",
   "metadata": {},
   "outputs": [
    {
     "name": "stderr",
     "output_type": "stream",
     "text": [
      "/Users/TinyJiew/opt/anaconda3/envs/pantalone/lib/python3.10/site-packages/openpyxl/reader/workbook.py:118: UserWarning: Print area cannot be set to Defined name: #N/A.\n",
      "  warn(f\"Print area cannot be set to Defined name: {defn.value}.\")\n"
     ]
    },
    {
     "data": {
      "text/plain": [
       "2714"
      ]
     },
     "execution_count": 24,
     "metadata": {},
     "output_type": "execute_result"
    }
   ],
   "source": [
    "df4 = pd.read_excel('./data/ACS5yrNTA/soc_2016acs5yr_nta.xlsx')\n",
    "len(df4.columns.to_list())"
   ]
  },
  {
   "cell_type": "code",
   "execution_count": null,
   "id": "bfa66d1c-3b19-4988-954c-c20fa1e997d3",
   "metadata": {},
   "outputs": [],
   "source": [
    "df_buss = pd.read_csv('./data/Legally_Operating_Businesses_20240905.csv')"
   ]
  }
 ],
 "metadata": {
  "kernelspec": {
   "display_name": "Python 3 (ipykernel)",
   "language": "python",
   "name": "python3"
  },
  "language_info": {
   "codemirror_mode": {
    "name": "ipython",
    "version": 3
   },
   "file_extension": ".py",
   "mimetype": "text/x-python",
   "name": "python",
   "nbconvert_exporter": "python",
   "pygments_lexer": "ipython3",
   "version": "3.10.14"
  }
 },
 "nbformat": 4,
 "nbformat_minor": 5
}
